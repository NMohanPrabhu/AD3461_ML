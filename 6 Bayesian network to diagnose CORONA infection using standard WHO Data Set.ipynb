{
 "cells": [
  {
   "cell_type": "markdown",
   "id": "986686db-9e2c-46e7-a878-197229bb6ae5",
   "metadata": {},
   "source": [
    "<font color =\"Green\" Size=\"6\">EX No: 6  Bayesian network to diagnose CORONA infection using standard \n",
    "WHO Data Set</font>"
   ]
  },
  {
   "cell_type": "markdown",
   "id": "7f4b45e6-2fb6-4bca-b99b-744d66a9063e",
   "metadata": {},
   "source": [
    "<font color=\"yellow\" size=\"5\">Aim: \n",
    "To implement Bayesian Networks model to diagnose CORONA infection using standard WHO \n",
    "data set using pgmpy and report the outcomes.</font>"
   ]
  },
  {
   "cell_type": "markdown",
   "id": "2dce321c-df93-4ef5-b596-96fc6c2d1cf1",
   "metadata": {},
   "source": [
    "<b>Algorithm:</b> \n",
    "1. Install pgmpy package using pip \n",
    "2. Import pandas and BayesianNetwork library files  \n",
    "3. Load the covid patient data set \n",
    "4. Create a data set that contains crucial features ('SR_2 Folder thickness (mm) SR_3 Folder \n",
    "thickness(mm) SR_4 Folder thickness(mm),COVID-19 Infection) \n",
    "5. Rename the column names. \n",
    "6. Perform the CPT for the features \n",
    "7. Perform VariableElimination of the model \n",
    "8. Perform the query for infection when the evidence for a feature is certain value. \n",
    "9. Print the result"
   ]
  },
  {
   "cell_type": "markdown",
   "id": "d5d704f2-026b-4f3d-a964-4ac4045fc692",
   "metadata": {},
   "source": [
    "Program:"
   ]
  },
  {
   "cell_type": "code",
   "execution_count": 2,
   "id": "cdc4e5b5-b6d2-456d-a8be-3088f9ef7c25",
   "metadata": {},
   "outputs": [],
   "source": [
    "#Install pgmpy library and work ,install this in powershell\n",
    "#pip install pgmpy"
   ]
  },
  {
   "cell_type": "code",
   "execution_count": null,
   "id": "6435c70a-3cb0-4867-8643-0995f6f25566",
   "metadata": {},
   "outputs": [],
   "source": [
    " \n",
    "import pandas as pd \n",
    "from pgmpy.models import BayesianNetwork"
   ]
  },
  {
   "cell_type": "code",
   "execution_count": null,
   "id": "7dabcbeb-4e82-414e-bf36-43c7f703e4c8",
   "metadata": {},
   "outputs": [],
   "source": []
  },
  {
   "cell_type": "code",
   "execution_count": null,
   "id": "952ac1d2-8bc6-4b41-9072-ad6a4525ae45",
   "metadata": {},
   "outputs": [],
   "source": [
    "df = \n",
    "pd.read_csv('C:/Users/user/Desktop/NMP/AIML_LAB_CSE/EXPERIMENTS/Patient_details.cs\n",
    " v')"
   ]
  },
  {
   "cell_type": "code",
   "execution_count": null,
   "id": "d2ee3216-7772-4b3e-807b-19d283938b68",
   "metadata": {},
   "outputs": [],
   "source": [
    "df1=df[['SR_2 Folder thickness(mm)', 'SR_3 Folder thickness(mm)','SR_4 Folder \n",
    "thickness(mm)','COVID-19 Infection']] \n",
    "dict = {'SR_2 Folder thickness(mm)': 'SR_2','SR_3 Folder thickness(mm)': 'SR_3','SR_4 Folder \n",
    "thickness(mm)': 'SR_4','COVID-19 Infection': 'Infection'} \n",
    "df1.rename(columns=dict,inplace=True) \n",
    "result= {\"Positive\": 1,\"Negative\":0} \n",
    "df1['Infection']=df1['Infection'].map(result) \n",
    "df1.isnull() \n",
    "df1.dropna "
   ]
  },
  {
   "cell_type": "code",
   "execution_count": null,
   "id": "b5fde118-e27f-4de1-9999-33e8664f2a51",
   "metadata": {},
   "outputs": [],
   "source": [
    "model=BayesianNetwork([(\"SR_2\", \"SR_3\"),(\"SR_3\", \"SR_4\"),(\"SR_2\", \"Infection\"),(\"SR_3\", \n",
    "\"Infection\"),(\"SR_4\", \"Infection\")]) \n",
    "model.fit(df1) \n"
   ]
  },
  {
   "cell_type": "code",
   "execution_count": null,
   "id": "b12d4dba-2506-4df5-8b57-4bd1810feb10",
   "metadata": {},
   "outputs": [],
   "source": [
    "from pgmpy.inference import VariableElimination \n",
    "infer=VariableElimination(model) \n",
    "q1=infer.query(variables=['Infection'],evidence={'SR_2':4}) \n",
    "print(q1)"
   ]
  },
  {
   "cell_type": "markdown",
   "id": "1a1fcdd6-2896-4253-b46f-9a167d287e0a",
   "metadata": {},
   "source": [
    "<font color=\"yellow\" size=\"5\">Result: \n",
    " Thus the program implement Bayesian Networks model to diagnose CORONA \n",
    "infection using standard WHO data set using pgmpy is executed and verified the outcomes \n",
    "successfully.</font> \n"
   ]
  }
 ],
 "metadata": {
  "kernelspec": {
   "display_name": "Python 3 (ipykernel)",
   "language": "python",
   "name": "python3"
  },
  "language_info": {
   "codemirror_mode": {
    "name": "ipython",
    "version": 3
   },
   "file_extension": ".py",
   "mimetype": "text/x-python",
   "name": "python",
   "nbconvert_exporter": "python",
   "pygments_lexer": "ipython3",
   "version": "3.8.20"
  }
 },
 "nbformat": 4,
 "nbformat_minor": 5
}
