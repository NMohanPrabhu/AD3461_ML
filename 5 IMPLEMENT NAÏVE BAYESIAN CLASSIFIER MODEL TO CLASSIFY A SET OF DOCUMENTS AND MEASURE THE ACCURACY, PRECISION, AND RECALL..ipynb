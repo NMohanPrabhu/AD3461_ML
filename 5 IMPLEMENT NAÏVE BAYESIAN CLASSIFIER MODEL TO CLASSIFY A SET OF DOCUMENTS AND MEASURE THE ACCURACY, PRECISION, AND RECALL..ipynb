{
 "cells": [
  {
   "cell_type": "markdown",
   "id": "ced1470e-0f98-4e56-b4c7-d2208aa9aa6d",
   "metadata": {},
   "source": [
    "<font color =\"Green\" Size=\"6\">EX NO: 5 IMPLEMENT NAÏVE BAYESIAN CLASSIFIER MODEL TO \n",
    "CLASSIFY A SET OF DOCUMENTS AND MEASURE THE ACCURACY, \n",
    "PRECISION, AND RECALL. </font>"
   ]
  },
  {
   "cell_type": "markdown",
   "id": "8c497072-a0dd-4a57-9c2e-8100c3fcee5a",
   "metadata": {},
   "source": [
    "<font color=\"yellow\" size=\"5\">Aim: \n",
    "To implement naïve Bayesian Classifier model to classify a set of documents and \n",
    "measure the accuracy, precision, and recall.</font>"
   ]
  },
  {
   "cell_type": "markdown",
   "id": "c09e746a-6438-49d9-aa19-7e35c68d6f40",
   "metadata": {},
   "source": [
    "<b>Algorithm:</b>\n",
    "<ol>\n",
    "<li>Fetch the data from the newsgroups</li> \n",
    "<li>Perform word stemming </li>\n",
    "<li>Perform Count Vectorization of the documents</li> \n",
    "<li>The data is split into features (X) and target (y).X contains newsgroups data and \n",
    "y contains newsgroups target </li>\n",
    "<li>The data is split into training and test sets using the train_test_split function from \n",
    "the sklearn.model_selection module. </li>\n",
    "<li> Create an instance of Multinomial Naïve Bayes classfier </li>\n",
    "<li> Fit the classifier to the training data X_train and y_train</li> \n",
    "<li>Perform the prediction</li> \n",
    "<li>Estimate the performance metrics such as accuracy, precision and recall for the \n",
    "classifier.</li></ol>"
   ]
  },
  {
   "cell_type": "markdown",
   "id": "6c70079d-ad44-4d59-9b5b-897bbe29c246",
   "metadata": {},
   "source": [
    "Program: "
   ]
  },
  {
   "cell_type": "code",
   "execution_count": 2,
   "id": "865d54ab-bcf3-42f2-92b1-72d423feb68d",
   "metadata": {},
   "outputs": [
    {
     "name": "stdout",
     "output_type": "stream",
     "text": [
      "Number of documents:  18846\n",
      "Number of categories:  20\n"
     ]
    }
   ],
   "source": [
    "from sklearn.datasets import fetch_20newsgroups \n",
    "newsgroups = fetch_20newsgroups(subset='all', shuffle=True, random_state=42) \n",
    "print(\"Number of documents: \", len(newsgroups.data)) \n",
    "print(\"Number of categories: \", len(newsgroups.target_names)) \n",
    "from nltk.stem import SnowballStemmer \n",
    "from sklearn.feature_extraction.text import CountVectorizer \n",
    "from nltk.corpus import stopwords \n",
    "stemmer = SnowballStemmer('english') \n",
    "analyzer = CountVectorizer().build_analyzer()"
   ]
  },
  {
   "cell_type": "code",
   "execution_count": 3,
   "id": "1688ce2d-c481-4f0c-9bd2-0df0370254a2",
   "metadata": {},
   "outputs": [
    {
     "name": "stderr",
     "output_type": "stream",
     "text": [
      "C:\\Users\\USER\\.conda\\envs\\NEW_38\\lib\\site-packages\\sklearn\\feature_extraction\\text.py:547: UserWarning: The parameter 'stop_words' will not be used since 'analyzer' != 'word'\n",
      "  warnings.warn(\n"
     ]
    }
   ],
   "source": [
    "def stemmed_words(doc): \n",
    "    return (stemmer.stem(w) for w in analyzer(doc)) \n",
    "vectorizer = CountVectorizer(stop_words='english', analyzer=stemmed_words) \n",
    "X = vectorizer.fit_transform(newsgroups.data) \n",
    "y = newsgroups.target \n",
    "from sklearn.model_selection import train_test_split \n",
    "X_train, X_test, y_train, y_test = train_test_split(X, y, test_size=0.2, random_state=42) \n",
    "from sklearn.naive_bayes import MultinomialNB \n",
    "clf = MultinomialNB()"
   ]
  },
  {
   "cell_type": "code",
   "execution_count": 4,
   "id": "db382e41-14dc-433e-b3b2-d21fbdf7413c",
   "metadata": {},
   "outputs": [
    {
     "name": "stdout",
     "output_type": "stream",
     "text": [
      "Accuracy: 84.32%\n"
     ]
    }
   ],
   "source": [
    "clf.fit(X_train, y_train) \n",
    "from sklearn.metrics import accuracy_score \n",
    "y_pred = clf.predict(X_test) \n",
    "accuracy = accuracy_score(y_test, y_pred) \n",
    "print(\"Accuracy: {:.2f}%\".format(accuracy * 100)) "
   ]
  },
  {
   "cell_type": "code",
   "execution_count": 5,
   "id": "623b2ea3-4aed-40cf-bd73-f40df29e47b1",
   "metadata": {},
   "outputs": [],
   "source": [
    "from sklearn.metrics import precision_score \n",
    "from sklearn.metrics import recall_score \n",
    "from sklearn import metrics \n",
    "precision = metrics.precision_score(y_test, y_pred,average='micro') \n",
    "recall = metrics.recall_score(y_test, y_pred,average='micro')\n"
   ]
  },
  {
   "cell_type": "code",
   "execution_count": 6,
   "id": "36f7c3fe-229d-4f9b-9055-0555991c93c4",
   "metadata": {},
   "outputs": [
    {
     "data": {
      "text/plain": [
       "0.843236074270557"
      ]
     },
     "execution_count": 6,
     "metadata": {},
     "output_type": "execute_result"
    }
   ],
   "source": [
    "precision"
   ]
  },
  {
   "cell_type": "code",
   "execution_count": 7,
   "id": "2fb74afa-e7b1-4419-92c8-e7f777355e5c",
   "metadata": {},
   "outputs": [
    {
     "data": {
      "text/plain": [
       "0.843236074270557"
      ]
     },
     "execution_count": 7,
     "metadata": {},
     "output_type": "execute_result"
    }
   ],
   "source": [
    "recall"
   ]
  },
  {
   "cell_type": "markdown",
   "id": "286e8f48-4b5e-416e-bf05-c5a6c3e13601",
   "metadata": {},
   "source": [
    "<font color=\"yellow\" size=\"5\">Result: \n",
    "            Thus the program implement naïve Bayesian Classifier model to classify a \n",
    "set of documents, measure the accuracy, precision, and recall for the documents is \n",
    "implemented and executed successfully.</font>"
   ]
  },
  {
   "cell_type": "code",
   "execution_count": null,
   "id": "bfaf3b3f-4cc0-43b8-b0ca-2de6bf7e3623",
   "metadata": {},
   "outputs": [],
   "source": []
  }
 ],
 "metadata": {
  "kernelspec": {
   "display_name": "Python 3 (ipykernel)",
   "language": "python",
   "name": "python3"
  },
  "language_info": {
   "codemirror_mode": {
    "name": "ipython",
    "version": 3
   },
   "file_extension": ".py",
   "mimetype": "text/x-python",
   "name": "python",
   "nbconvert_exporter": "python",
   "pygments_lexer": "ipython3",
   "version": "3.8.20"
  }
 },
 "nbformat": 4,
 "nbformat_minor": 5
}
