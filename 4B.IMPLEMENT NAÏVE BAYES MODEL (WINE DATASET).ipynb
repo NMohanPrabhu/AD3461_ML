{
 "cells": [
  {
   "cell_type": "markdown",
   "id": "eda2169b-6aa0-4eaf-baa0-57e2c14d4f81",
   "metadata": {},
   "source": [
    "<font color =\"Green\" Size=\"6\">EX.NO:4B.IMPLEMENT NAÏVE BAYES MODEL (WINE DATASET) </font>"
   ]
  },
  {
   "cell_type": "markdown",
   "id": "c44e0a88-36af-41cd-bb3a-66fbd4eb5196",
   "metadata": {},
   "source": [
    "<font color=\"yellow\" size=\"5\">Aim: \n",
    "        To implement naïve Bayes model in scikit-learn and report the outcomes for wine dataset. </font>"
   ]
  },
  {
   "cell_type": "markdown",
   "id": "1fc438db-54da-44d2-8145-df6f8e316526",
   "metadata": {},
   "source": [
    "<b> Algorithm:</b> \n",
    "1. Import necessary Library files \n",
    "2. Load the wine data set \n",
    "3. The data is split into features (X) and target (y). \n",
    "4. The data is split into training and test sets using the train_test_split function from the \n",
    "sklearn.model_selection module. \n",
    "5. Create an instance of Gaussian Naïve Bayes classfier \n",
    "6. Fit the classifier to the training data X_train and y_train \n",
    "7. Perform the prediction \n",
    "8. Estimate the performance metrics such as accuracy, precision and recall for the classifier."
   ]
  },
  {
   "cell_type": "markdown",
   "id": "878a4078-07db-49dc-adb1-cd3adb2bc393",
   "metadata": {},
   "source": [
    "Program:"
   ]
  },
  {
   "cell_type": "code",
   "execution_count": null,
   "id": "bbb22ac6-89e7-40c7-9bf8-456bb426dd34",
   "metadata": {},
   "outputs": [],
   "source": [
    " import pandas as pd \n",
    "from sklearn import metrics \n",
    "from sklearn.model_selection import train_test_split \n",
    "from sklearn.metrics import precision_score \n",
    "from sklearn.metrics import recall_score \n",
    "from sklearn.metrics import confusion_matrix \n",
    "from sklearn.naive_bayes import GaussianNB"
   ]
  },
  {
   "cell_type": "code",
   "execution_count": null,
   "id": "f0c0b78b-073a-45d6-a41f-222c9e59eebb",
   "metadata": {},
   "outputs": [],
   "source": [
    "#Note: Try to load the dataset from your current location.\n",
    "#Download the dataset from kaggle\n",
    "wine=pd.read_csv('C:/Users/user/Desktop/NMP/6_SCIKIT/dataset/wine.csv').dropna() \n",
    "X=wine.drop(\"Wine\",axis=1) \n",
    "y=wine[\"Wine\"] "
   ]
  },
  {
   "cell_type": "code",
   "execution_count": null,
   "id": "6e7e289c-9d0c-4f41-8246-3e29e2b1f6df",
   "metadata": {},
   "outputs": [],
   "source": [
    "X_train, X_test, y_train, y_test = train_test_split(X, y, test_size=.3, random_state=4) \n",
    "NBclassifier = GaussianNB() \n",
    "NBclassifier.fit(X_train, y_train)"
   ]
  },
  {
   "cell_type": "code",
   "execution_count": null,
   "id": "b7c5ee8c-3569-4cc2-9636-ddd64bb9b2e9",
   "metadata": {},
   "outputs": [],
   "source": [
    "# performing predictions on the test dataset \n",
    "y_pred = NBclassifier.predict(X_test) \n",
    "# metrics are used to find accuracy or error \n",
    "print(\"ACCURACY OF THE MODEL:\", metrics.accuracy_score(y_test, y_pred)) "
   ]
  },
  {
   "cell_type": "code",
   "execution_count": null,
   "id": "9b4af9fd-5873-48c9-b0bd-befa14ac6fd0",
   "metadata": {},
   "outputs": [],
   "source": [
    "accuracy = metrics.accuracy_score(y_test, y_pred) \n",
    "precision = metrics.precision_score(y_test, y_pred,average='micro') \n",
    "recall = metrics.recall_score(y_test, y_pred,average='micro') \n",
    "from sklearn.metrics import accuracy_score, classification_report, confusion_matrix\n",
    "class_report = classification_report(y_test, y_pred) \n",
    "print(\"Classification Report:\\n\", class_report) "
   ]
  },
  {
   "cell_type": "markdown",
   "id": "36f1fa08-68ef-48c1-b574-b4e999115b72",
   "metadata": {},
   "source": [
    " \n",
    "<font color=\"yellow\" size=\"5\">Result: \n",
    "          Thus the program for naïve Bayes model in scikit-learns and reporting the \n",
    "outcomes for wine dataset is successfully done.</font>\n"
   ]
  }
 ],
 "metadata": {
  "kernelspec": {
   "display_name": "Python 3 (ipykernel)",
   "language": "python",
   "name": "python3"
  },
  "language_info": {
   "codemirror_mode": {
    "name": "ipython",
    "version": 3
   },
   "file_extension": ".py",
   "mimetype": "text/x-python",
   "name": "python",
   "nbconvert_exporter": "python",
   "pygments_lexer": "ipython3",
   "version": "3.8.20"
  }
 },
 "nbformat": 4,
 "nbformat_minor": 5
}
