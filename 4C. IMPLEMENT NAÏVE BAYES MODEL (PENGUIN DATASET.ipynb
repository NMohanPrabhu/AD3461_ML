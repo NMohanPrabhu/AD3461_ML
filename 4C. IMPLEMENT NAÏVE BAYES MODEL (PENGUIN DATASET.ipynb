{
 "cells": [
  {
   "cell_type": "markdown",
   "id": "5db63569-e78d-41c9-b6a4-5967cef1507b",
   "metadata": {},
   "source": [
    "<font color =\"Green\" Size=\"6\">EX.NO:4C. IMPLEMENT NAÏVE BAYES MODEL (PENGUIN DATASET</font>"
   ]
  },
  {
   "cell_type": "markdown",
   "id": "02fd4ea6-ce59-4055-8bc7-6c3aae842649",
   "metadata": {},
   "source": [
    "<font color=\"yellow\" size=\"5\">Aim: \n",
    "To implement naïve Bayes model in scikit-learn and report the outcomes for penguin dataset. </font>"
   ]
  },
  {
   "cell_type": "markdown",
   "id": "e3d15e98-5965-46bc-93d6-45cc8ab1eb1e",
   "metadata": {},
   "source": [
    "<b>Algorithm:</b> \n",
    "1. Import necessary Library files \n",
    "2. Load the penguin data set \n",
    "3. The data is split into features (X) and target (y). \n",
    "4. The data is split into training and test sets using the train_test_split function from the \n",
    "sklearn.model_selection module. \n",
    "5. Create an instance of Gaussian Naïve Bayes classfier \n",
    "6. Fit the classifier to the training data X_train and y_train \n",
    "7. Perform the prediction \n",
    "8. Estimate the performance metrics such as accuracy, precision and recall for the classifier. "
   ]
  },
  {
   "cell_type": "markdown",
   "id": "e9544ec3-5587-40f1-958b-01b0ec10edaf",
   "metadata": {},
   "source": [
    "Program:"
   ]
  },
  {
   "cell_type": "code",
   "execution_count": null,
   "id": "e4f5d409-66c7-4ad5-a080-aa67101aab96",
   "metadata": {},
   "outputs": [],
   "source": [
    "import pandas as pd \n",
    "from sklearn import metrics \n",
    "from sklearn.model_selection import train_test_split \n",
    "from sklearn.metrics import precision_score \n",
    "from sklearn.metrics import recall_score \n",
    "from sklearn.metrics import confusion_matrix \n",
    "from sklearn.naive_bayes import GaussianNB"
   ]
  },
  {
   "cell_type": "code",
   "execution_count": null,
   "id": "fb436f63-4705-47bb-814d-bba514387088",
   "metadata": {},
   "outputs": [],
   "source": [
    "#Note: Try to load the dataset from your current location.\n",
    "#Download the dataset from kaggle or the dataset is provided in the repository\n",
    "penguins=pd.read_csv('C:/Users/user/Desktop/NMP/6_SCIKIT\\dataset/penguins_size.csv').drop\n",
    " na() \n",
    "penguins \n",
    "df = pd.DataFrame(penguins) "
   ]
  },
  {
   "cell_type": "code",
   "execution_count": null,
   "id": "7053099a-5f58-41fa-848b-16de1c26e6da",
   "metadata": {},
   "outputs": [],
   "source": [
    "X = penguins.select_dtypes(exclude=['object']) \n",
    "y = penguins.species "
   ]
  },
  {
   "cell_type": "code",
   "execution_count": null,
   "id": "3d2cd7c6-a112-42b3-aa9e-8846a073c64e",
   "metadata": {},
   "outputs": [],
   "source": [
    "X_train, X_test, y_train, y_test = train_test_split(X, y, test_size=.3, random_state=4) \n",
    " \n",
    "NBclassifier = GaussianNB() \n",
    "NBclassifier.fit(X_train, y_train) "
   ]
  },
  {
   "cell_type": "code",
   "execution_count": null,
   "id": "dbac40ca-bbf0-40c8-9f91-f6c668b9bf5e",
   "metadata": {},
   "outputs": [],
   "source": [
    "# performing predictions on the test dataset\n",
    "y_pred = NBclassifier.predict(X_test) \n",
    " \n",
    "# metrics are used to find accuracy or error \n",
    " \n",
    "print(\"ACCURACY OF THE MODEL:\", metrics.accuracy_score(y_test, y_pred)) \n",
    "accuracy = metrics.accuracy_score(y_test, y_pred) \n",
    "precision = metrics.precision_score(y_test, y_pred,average='micro') \n",
    "recall = metrics.recall_score(y_test, y_pred,average='micro') \n",
    "from sklearn.metrics import accuracy_score, classification_report, confusion_matrix"
   ]
  },
  {
   "cell_type": "code",
   "execution_count": null,
   "id": "38b2ff53-04ee-43ca-be3f-b8cf38e1c536",
   "metadata": {},
   "outputs": [],
   "source": [
    "class_report = classification_report(y_test, y_pred) \n",
    "print(\"Classification Report:\\n\", class_report)"
   ]
  },
  {
   "cell_type": "markdown",
   "id": "bff1b1f0-92a5-42c4-9fff-a8e5a73b4c01",
   "metadata": {},
   "source": [
    "<font color=\"yellow\" size=\"5\">Result: \n",
    "             Thus the program for naïve Bayes model in scikit-learns and reporting the \n",
    "outcomes for penguin dataset is successfully done.</font>"
   ]
  }
 ],
 "metadata": {
  "kernelspec": {
   "display_name": "Python 3 (ipykernel)",
   "language": "python",
   "name": "python3"
  },
  "language_info": {
   "codemirror_mode": {
    "name": "ipython",
    "version": 3
   },
   "file_extension": ".py",
   "mimetype": "text/x-python",
   "name": "python",
   "nbconvert_exporter": "python",
   "pygments_lexer": "ipython3",
   "version": "3.8.20"
  }
 },
 "nbformat": 4,
 "nbformat_minor": 5
}
