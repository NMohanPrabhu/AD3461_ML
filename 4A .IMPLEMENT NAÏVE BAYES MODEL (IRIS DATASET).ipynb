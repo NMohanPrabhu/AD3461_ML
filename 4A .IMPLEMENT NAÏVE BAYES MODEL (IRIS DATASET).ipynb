{
 "cells": [
  {
   "cell_type": "markdown",
   "id": "90108153-baa6-4b73-9e9c-4343a1ec66a6",
   "metadata": {},
   "source": [
    "<font color =\"Green\" Size=\"6\">4A .IMPLEMENT NAÏVE BAYES MODEL (IRIS DATASET)</font>"
   ]
  },
  {
   "cell_type": "markdown",
   "id": "de1f46c9-6652-4aa4-9cf1-37a7262eb080",
   "metadata": {},
   "source": [
    "<font color=\"yellow\" size=\"5\">Aim: \n",
    "To implement naïve Bayes model in scikit-learn and report the outcomes for iris dataset.</font>"
   ]
  },
  {
   "cell_type": "markdown",
   "id": "c93f80ff-c17f-48d6-9278-63ed3cb3d50a",
   "metadata": {},
   "source": [
    "<b>Algorithm:</b> \n",
    "1. Import necessary Library files \n",
    "2. Load the iris data set \n",
    "3. The data is split into features (X) and target (y).X contains feature information of iris data set \n",
    "(sepal length, sepal width, petal length, petal width) and y contains iris class (Iris setosa, Iris \n",
    "virginica and Iris versicolor) labels \n",
    "4. The data is split into training and test sets using the train_test_split function from the \n",
    "sklearn.model_selection module. \n",
    "5. Create an instance of Gaussian Naïve Bayes classfier \n",
    "6. Fit the classifier to the training data X_train and y_train \n",
    "7. Perform the prediction \n",
    "8. Estimate the performance metrics such as accuracy, precision and recall for the classifier. "
   ]
  },
  {
   "cell_type": "markdown",
   "id": "3f97b1d1-8c90-4f88-8e47-1da624ec6bd3",
   "metadata": {},
   "source": [
    "Program:"
   ]
  },
  {
   "cell_type": "code",
   "execution_count": 2,
   "id": "8f19bc82-d891-469a-9b8b-647e08b90858",
   "metadata": {},
   "outputs": [],
   "source": [
    "import pandas as pd \n",
    "from sklearn import metrics \n",
    "from sklearn.model_selection import train_test_split \n",
    "from sklearn.metrics import precision_score \n",
    "from sklearn.metrics import recall_score \n",
    "from sklearn.metrics import confusion_matrix \n",
    "from sklearn.naive_bayes import GaussianNB \n",
    "from sklearn.datasets import load_iris "
   ]
  },
  {
   "cell_type": "code",
   "execution_count": 3,
   "id": "dd8713fb-2e47-4690-b5b1-dc7688b574e8",
   "metadata": {},
   "outputs": [
    {
     "data": {
      "text/html": [
       "<style>#sk-container-id-1 {color: black;}#sk-container-id-1 pre{padding: 0;}#sk-container-id-1 div.sk-toggleable {background-color: white;}#sk-container-id-1 label.sk-toggleable__label {cursor: pointer;display: block;width: 100%;margin-bottom: 0;padding: 0.3em;box-sizing: border-box;text-align: center;}#sk-container-id-1 label.sk-toggleable__label-arrow:before {content: \"▸\";float: left;margin-right: 0.25em;color: #696969;}#sk-container-id-1 label.sk-toggleable__label-arrow:hover:before {color: black;}#sk-container-id-1 div.sk-estimator:hover label.sk-toggleable__label-arrow:before {color: black;}#sk-container-id-1 div.sk-toggleable__content {max-height: 0;max-width: 0;overflow: hidden;text-align: left;background-color: #f0f8ff;}#sk-container-id-1 div.sk-toggleable__content pre {margin: 0.2em;color: black;border-radius: 0.25em;background-color: #f0f8ff;}#sk-container-id-1 input.sk-toggleable__control:checked~div.sk-toggleable__content {max-height: 200px;max-width: 100%;overflow: auto;}#sk-container-id-1 input.sk-toggleable__control:checked~label.sk-toggleable__label-arrow:before {content: \"▾\";}#sk-container-id-1 div.sk-estimator input.sk-toggleable__control:checked~label.sk-toggleable__label {background-color: #d4ebff;}#sk-container-id-1 div.sk-label input.sk-toggleable__control:checked~label.sk-toggleable__label {background-color: #d4ebff;}#sk-container-id-1 input.sk-hidden--visually {border: 0;clip: rect(1px 1px 1px 1px);clip: rect(1px, 1px, 1px, 1px);height: 1px;margin: -1px;overflow: hidden;padding: 0;position: absolute;width: 1px;}#sk-container-id-1 div.sk-estimator {font-family: monospace;background-color: #f0f8ff;border: 1px dotted black;border-radius: 0.25em;box-sizing: border-box;margin-bottom: 0.5em;}#sk-container-id-1 div.sk-estimator:hover {background-color: #d4ebff;}#sk-container-id-1 div.sk-parallel-item::after {content: \"\";width: 100%;border-bottom: 1px solid gray;flex-grow: 1;}#sk-container-id-1 div.sk-label:hover label.sk-toggleable__label {background-color: #d4ebff;}#sk-container-id-1 div.sk-serial::before {content: \"\";position: absolute;border-left: 1px solid gray;box-sizing: border-box;top: 0;bottom: 0;left: 50%;z-index: 0;}#sk-container-id-1 div.sk-serial {display: flex;flex-direction: column;align-items: center;background-color: white;padding-right: 0.2em;padding-left: 0.2em;position: relative;}#sk-container-id-1 div.sk-item {position: relative;z-index: 1;}#sk-container-id-1 div.sk-parallel {display: flex;align-items: stretch;justify-content: center;background-color: white;position: relative;}#sk-container-id-1 div.sk-item::before, #sk-container-id-1 div.sk-parallel-item::before {content: \"\";position: absolute;border-left: 1px solid gray;box-sizing: border-box;top: 0;bottom: 0;left: 50%;z-index: -1;}#sk-container-id-1 div.sk-parallel-item {display: flex;flex-direction: column;z-index: 1;position: relative;background-color: white;}#sk-container-id-1 div.sk-parallel-item:first-child::after {align-self: flex-end;width: 50%;}#sk-container-id-1 div.sk-parallel-item:last-child::after {align-self: flex-start;width: 50%;}#sk-container-id-1 div.sk-parallel-item:only-child::after {width: 0;}#sk-container-id-1 div.sk-dashed-wrapped {border: 1px dashed gray;margin: 0 0.4em 0.5em 0.4em;box-sizing: border-box;padding-bottom: 0.4em;background-color: white;}#sk-container-id-1 div.sk-label label {font-family: monospace;font-weight: bold;display: inline-block;line-height: 1.2em;}#sk-container-id-1 div.sk-label-container {text-align: center;}#sk-container-id-1 div.sk-container {/* jupyter's `normalize.less` sets `[hidden] { display: none; }` but bootstrap.min.css set `[hidden] { display: none !important; }` so we also need the `!important` here to be able to override the default hidden behavior on the sphinx rendered scikit-learn.org. See: https://github.com/scikit-learn/scikit-learn/issues/21755 */display: inline-block !important;position: relative;}#sk-container-id-1 div.sk-text-repr-fallback {display: none;}</style><div id=\"sk-container-id-1\" class=\"sk-top-container\"><div class=\"sk-text-repr-fallback\"><pre>GaussianNB()</pre><b>In a Jupyter environment, please rerun this cell to show the HTML representation or trust the notebook. <br />On GitHub, the HTML representation is unable to render, please try loading this page with nbviewer.org.</b></div><div class=\"sk-container\" hidden><div class=\"sk-item\"><div class=\"sk-estimator sk-toggleable\"><input class=\"sk-toggleable__control sk-hidden--visually\" id=\"sk-estimator-id-1\" type=\"checkbox\" checked><label for=\"sk-estimator-id-1\" class=\"sk-toggleable__label sk-toggleable__label-arrow\">GaussianNB</label><div class=\"sk-toggleable__content\"><pre>GaussianNB()</pre></div></div></div></div></div>"
      ],
      "text/plain": [
       "GaussianNB()"
      ]
     },
     "execution_count": 3,
     "metadata": {},
     "output_type": "execute_result"
    }
   ],
   "source": [
    "iris = load_iris() \n",
    "X = iris.data \n",
    "y = iris.target \n",
    "X_train, X_test, y_train, y_test = train_test_split(X, y, test_size=.3, random_state=4) \n",
    "NBclassifier = GaussianNB() \n",
    "NBclassifier.fit(X_train, y_train) "
   ]
  },
  {
   "cell_type": "code",
   "execution_count": 4,
   "id": "bb538311-754b-4832-ad91-b2861102d5e3",
   "metadata": {},
   "outputs": [],
   "source": [
    "# performing predictions on the test dataset \n",
    "y_pred = NBclassifier.predict(X_test) "
   ]
  },
  {
   "cell_type": "code",
   "execution_count": 5,
   "id": "84d0339c-9edc-4875-a7d4-b3b867171f23",
   "metadata": {},
   "outputs": [
    {
     "name": "stdout",
     "output_type": "stream",
     "text": [
      "ACCURACY OF THE MODEL: 0.9777777777777777\n"
     ]
    }
   ],
   "source": [
    "# metrics are used to find accuracy or error \n",
    "print(\"ACCURACY OF THE MODEL:\", metrics.accuracy_score(y_test, y_pred)) \n",
    "accuracy = metrics.accuracy_score(y_test, y_pred) \n",
    "precision = metrics.precision_score(y_test, y_pred,average='micro') \n",
    "recall = metrics.recall_score(y_test, y_pred,average='micro') "
   ]
  },
  {
   "cell_type": "code",
   "execution_count": 7,
   "id": "c81822e8-befb-4eed-a89f-2a554fe3f718",
   "metadata": {},
   "outputs": [
    {
     "data": {
      "text/plain": [
       "0.9777777777777777"
      ]
     },
     "execution_count": 7,
     "metadata": {},
     "output_type": "execute_result"
    }
   ],
   "source": [
    "precision"
   ]
  },
  {
   "cell_type": "code",
   "execution_count": 8,
   "id": "7328e886-48b9-405d-be31-c6f43b655b5c",
   "metadata": {},
   "outputs": [
    {
     "data": {
      "text/plain": [
       "0.9777777777777777"
      ]
     },
     "execution_count": 8,
     "metadata": {},
     "output_type": "execute_result"
    }
   ],
   "source": [
    "recall"
   ]
  },
  {
   "cell_type": "code",
   "execution_count": 6,
   "id": "dc62369d-c35e-43bf-a867-9484ffb7742a",
   "metadata": {},
   "outputs": [
    {
     "name": "stdout",
     "output_type": "stream",
     "text": [
      "Classification Report:\n",
      "               precision    recall  f1-score   support\n",
      "\n",
      "           0       1.00      1.00      1.00        21\n",
      "           1       0.91      1.00      0.95        10\n",
      "           2       1.00      0.93      0.96        14\n",
      "\n",
      "    accuracy                           0.98        45\n",
      "   macro avg       0.97      0.98      0.97        45\n",
      "weighted avg       0.98      0.98      0.98        45\n",
      "\n"
     ]
    }
   ],
   "source": [
    "from sklearn.metrics import accuracy_score, classification_report, confusion_matrix\n",
    "class_report = classification_report(y_test, y_pred) \n",
    "print(\"Classification Report:\\n\", class_report) "
   ]
  },
  {
   "cell_type": "code",
   "execution_count": null,
   "id": "a3554b7c-fb35-468e-8d0a-ded8d1f52b59",
   "metadata": {},
   "outputs": [],
   "source": []
  },
  {
   "cell_type": "markdown",
   "id": "ea943e0a-2015-4cd7-aa41-952c71304c52",
   "metadata": {},
   "source": [
    "<font color=\"yellow\" size=\"5\">Result: \n",
    "            Thus the program for naïve Bayes model in scikit-learns and reporting the outcomes for \n",
    "iris dataset is successfully done. </font>\n"
   ]
  },
  {
   "cell_type": "code",
   "execution_count": null,
   "id": "4591dbfd-1a81-4817-9b2a-b988544f72ee",
   "metadata": {},
   "outputs": [],
   "source": []
  }
 ],
 "metadata": {
  "kernelspec": {
   "display_name": "Python 3 (ipykernel)",
   "language": "python",
   "name": "python3"
  },
  "language_info": {
   "codemirror_mode": {
    "name": "ipython",
    "version": 3
   },
   "file_extension": ".py",
   "mimetype": "text/x-python",
   "name": "python",
   "nbconvert_exporter": "python",
   "pygments_lexer": "ipython3",
   "version": "3.8.20"
  }
 },
 "nbformat": 4,
 "nbformat_minor": 5
}
